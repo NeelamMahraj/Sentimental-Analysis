{
 "cells": [
  {
   "cell_type": "code",
   "execution_count": 1,
   "id": "657c6121",
   "metadata": {
    "_cell_guid": "b1076dfc-b9ad-4769-8c92-a6c4dae69d19",
    "_uuid": "8f2839f25d086af736a60e9eeb907d3b93b6e0e5",
    "execution": {
     "iopub.execute_input": "2023-08-19T12:21:38.880412Z",
     "iopub.status.busy": "2023-08-19T12:21:38.879961Z",
     "iopub.status.idle": "2023-08-19T12:21:56.698935Z",
     "shell.execute_reply": "2023-08-19T12:21:56.697561Z"
    },
    "papermill": {
     "duration": 17.830791,
     "end_time": "2023-08-19T12:21:56.701225",
     "exception": false,
     "start_time": "2023-08-19T12:21:38.870434",
     "status": "completed"
    },
    "tags": []
   },
   "outputs": [
    {
     "name": "stderr",
     "output_type": "stream",
     "text": [
      "/opt/conda/lib/python3.10/site-packages/scipy/__init__.py:146: UserWarning: A NumPy version >=1.16.5 and <1.23.0 is required for this version of SciPy (detected version 1.23.5\n",
      "  warnings.warn(f\"A NumPy version >={np_minversion} and <{np_maxversion}\"\n",
      "/opt/conda/lib/python3.10/site-packages/tensorflow_io/python/ops/__init__.py:98: UserWarning: unable to load libtensorflow_io_plugins.so: unable to open file: libtensorflow_io_plugins.so, from paths: ['/opt/conda/lib/python3.10/site-packages/tensorflow_io/python/ops/libtensorflow_io_plugins.so']\n",
      "caused by: ['/opt/conda/lib/python3.10/site-packages/tensorflow_io/python/ops/libtensorflow_io_plugins.so: undefined symbol: _ZN3tsl6StatusC1EN10tensorflow5error4CodeESt17basic_string_viewIcSt11char_traitsIcEENS_14SourceLocationE']\n",
      "  warnings.warn(f\"unable to load libtensorflow_io_plugins.so: {e}\")\n",
      "/opt/conda/lib/python3.10/site-packages/tensorflow_io/python/ops/__init__.py:104: UserWarning: file system plugins are not loaded: unable to open file: libtensorflow_io.so, from paths: ['/opt/conda/lib/python3.10/site-packages/tensorflow_io/python/ops/libtensorflow_io.so']\n",
      "caused by: ['/opt/conda/lib/python3.10/site-packages/tensorflow_io/python/ops/libtensorflow_io.so: undefined symbol: _ZTVN10tensorflow13GcsFileSystemE']\n",
      "  warnings.warn(f\"file system plugins are not loaded: {e}\")\n"
     ]
    },
    {
     "name": "stdout",
     "output_type": "stream",
     "text": [
      "/kaggle/input/twitter-and-reddit-sentimental-analysis-dataset/Twitter_Data.csv\n",
      "/kaggle/input/twitter-and-reddit-sentimental-analysis-dataset/Reddit_Data.csv\n",
      "/kaggle/input/tweeter/tweet test.csv\n",
      "/kaggle/input/tweeter/tweet train.csv\n"
     ]
    }
   ],
   "source": [
    "# This Python 3 environment comes with many helpful analytics libraries installed\n",
    "# It is defined by the kaggle/python Docker image: https://github.com/kaggle/docker-python\n",
    "# For example, here's several helpful packages to load\n",
    "\n",
    "import numpy as np # linear algebra\n",
    "import pandas as pd # data processing, CSV file I/O (e.g. pd.read_csv)\n",
    "from nltk.corpus import stopwords\n",
    "from nltk.stem.porter import *\n",
    "# For Building the model\n",
    "from sklearn.model_selection import train_test_split\n",
    "import tensorflow as tf\n",
    "import seaborn as sns\n",
    "\n",
    "#For data visualization\n",
    "import matplotlib.pyplot as plt\n",
    "import matplotlib.patches as mpatches\n",
    "%matplotlib inline\n",
    "\n",
    "pd.options.plotting.backend = \"plotly\"\n",
    "\n",
    "# Input data files are available in the read-only \"../input/\" directory\n",
    "# For example, running this (by clicking run or pressing Shift+Enter) will list all files under the input directory\n",
    "\n",
    "import os\n",
    "for dirname, _, filenames in os.walk('/kaggle/input'):\n",
    "    for filename in filenames:\n",
    "        print(os.path.join(dirname, filename))\n",
    "\n",
    "# You can write up to 20GB to the current directory (/kaggle/working/) that gets preserved as output when you create a version using \"Save & Run All\" \n",
    "# You can also write temporary files to /kaggle/temp/, but they won't be saved outside of the current session"
   ]
  },
  {
   "cell_type": "code",
   "execution_count": 2,
   "id": "9e3da86a",
   "metadata": {
    "execution": {
     "iopub.execute_input": "2023-08-19T12:21:56.718216Z",
     "iopub.status.busy": "2023-08-19T12:21:56.717662Z",
     "iopub.status.idle": "2023-08-19T12:21:56.822526Z",
     "shell.execute_reply": "2023-08-19T12:21:56.821547Z"
    },
    "papermill": {
     "duration": 0.115751,
     "end_time": "2023-08-19T12:21:56.824679",
     "exception": false,
     "start_time": "2023-08-19T12:21:56.708928",
     "status": "completed"
    },
    "tags": []
   },
   "outputs": [
    {
     "name": "stdout",
     "output_type": "stream",
     "text": [
      "[nltk_data] Downloading package stopwords to /usr/share/nltk_data...\n",
      "[nltk_data]   Package stopwords is already up-to-date!\n"
     ]
    },
    {
     "data": {
      "text/plain": [
       "True"
      ]
     },
     "execution_count": 2,
     "metadata": {},
     "output_type": "execute_result"
    }
   ],
   "source": [
    "import nltk\n",
    "nltk.download('stopwords')"
   ]
  },
  {
   "cell_type": "code",
   "execution_count": 3,
   "id": "1d44a6af",
   "metadata": {
    "execution": {
     "iopub.execute_input": "2023-08-19T12:21:56.841392Z",
     "iopub.status.busy": "2023-08-19T12:21:56.841080Z",
     "iopub.status.idle": "2023-08-19T12:21:57.050174Z",
     "shell.execute_reply": "2023-08-19T12:21:57.049214Z"
    },
    "papermill": {
     "duration": 0.220203,
     "end_time": "2023-08-19T12:21:57.052686",
     "exception": false,
     "start_time": "2023-08-19T12:21:56.832483",
     "status": "completed"
    },
    "tags": []
   },
   "outputs": [
    {
     "data": {
      "text/plain": [
       "<bound method NDFrame.head of           id  label                                              tweet\n",
       "0          1      0   @user when a father is dysfunctional and is s...\n",
       "1          2      0  @user @user thanks for #lyft credit i can't us...\n",
       "2          3      0                                bihday your majesty\n",
       "3          4      0  #model   i love u take with u all the time in ...\n",
       "4          5      0             factsguide: society now    #motivation\n",
       "...      ...    ...                                                ...\n",
       "31957  31958      0  ate @user isz that youuu?ðððððð...\n",
       "31958  31959      0    to see nina turner on the airwaves trying to...\n",
       "31959  31960      0  listening to sad songs on a monday morning otw...\n",
       "31960  31961      1  @user #sikh #temple vandalised in in #calgary,...\n",
       "31961  31962      0                   thank you @user for you follow  \n",
       "\n",
       "[31962 rows x 3 columns]>"
      ]
     },
     "execution_count": 3,
     "metadata": {},
     "output_type": "execute_result"
    }
   ],
   "source": [
    "tweet_df = pd.read_csv('/kaggle/input/tweeter/tweet train.csv')\n",
    "tweet_df.head"
   ]
  },
  {
   "cell_type": "code",
   "execution_count": 4,
   "id": "5b802111",
   "metadata": {
    "execution": {
     "iopub.execute_input": "2023-08-19T12:21:57.069172Z",
     "iopub.status.busy": "2023-08-19T12:21:57.068863Z",
     "iopub.status.idle": "2023-08-19T12:21:57.074664Z",
     "shell.execute_reply": "2023-08-19T12:21:57.073721Z"
    },
    "papermill": {
     "duration": 0.016166,
     "end_time": "2023-08-19T12:21:57.076704",
     "exception": false,
     "start_time": "2023-08-19T12:21:57.060538",
     "status": "completed"
    },
    "tags": []
   },
   "outputs": [
    {
     "data": {
      "text/plain": [
       "(31962, 3)"
      ]
     },
     "execution_count": 4,
     "metadata": {},
     "output_type": "execute_result"
    }
   ],
   "source": [
    "tweet_df.shape"
   ]
  },
  {
   "cell_type": "code",
   "execution_count": 5,
   "id": "03ed8d58",
   "metadata": {
    "execution": {
     "iopub.execute_input": "2023-08-19T12:21:57.093466Z",
     "iopub.status.busy": "2023-08-19T12:21:57.092677Z",
     "iopub.status.idle": "2023-08-19T12:21:57.099248Z",
     "shell.execute_reply": "2023-08-19T12:21:57.098298Z"
    },
    "papermill": {
     "duration": 0.017069,
     "end_time": "2023-08-19T12:21:57.101232",
     "exception": false,
     "start_time": "2023-08-19T12:21:57.084163",
     "status": "completed"
    },
    "tags": []
   },
   "outputs": [
    {
     "data": {
      "text/plain": [
       "Index(['id', 'label', 'tweet'], dtype='object')"
      ]
     },
     "execution_count": 5,
     "metadata": {},
     "output_type": "execute_result"
    }
   ],
   "source": [
    "tweet_df.columns"
   ]
  },
  {
   "cell_type": "code",
   "execution_count": 6,
   "id": "d21dc89d",
   "metadata": {
    "execution": {
     "iopub.execute_input": "2023-08-19T12:21:57.118580Z",
     "iopub.status.busy": "2023-08-19T12:21:57.117750Z",
     "iopub.status.idle": "2023-08-19T12:21:57.145313Z",
     "shell.execute_reply": "2023-08-19T12:21:57.144387Z"
    },
    "papermill": {
     "duration": 0.038511,
     "end_time": "2023-08-19T12:21:57.147504",
     "exception": false,
     "start_time": "2023-08-19T12:21:57.108993",
     "status": "completed"
    },
    "tags": []
   },
   "outputs": [
    {
     "data": {
      "text/plain": [
       "id       0\n",
       "label    0\n",
       "tweet    0\n",
       "dtype: int64"
      ]
     },
     "execution_count": 6,
     "metadata": {},
     "output_type": "execute_result"
    }
   ],
   "source": [
    "tweet_df.isnull().sum()"
   ]
  },
  {
   "cell_type": "code",
   "execution_count": 7,
   "id": "0f25f635",
   "metadata": {
    "execution": {
     "iopub.execute_input": "2023-08-19T12:21:57.166574Z",
     "iopub.status.busy": "2023-08-19T12:21:57.165769Z",
     "iopub.status.idle": "2023-08-19T12:21:57.185102Z",
     "shell.execute_reply": "2023-08-19T12:21:57.184230Z"
    },
    "papermill": {
     "duration": 0.031919,
     "end_time": "2023-08-19T12:21:57.187233",
     "exception": false,
     "start_time": "2023-08-19T12:21:57.155314",
     "status": "completed"
    },
    "tags": []
   },
   "outputs": [],
   "source": [
    "tweet_df.dropna(subset=['tweet','label'],axis=0,inplace=True)"
   ]
  },
  {
   "cell_type": "code",
   "execution_count": 8,
   "id": "d691b10e",
   "metadata": {
    "execution": {
     "iopub.execute_input": "2023-08-19T12:21:57.204947Z",
     "iopub.status.busy": "2023-08-19T12:21:57.204137Z",
     "iopub.status.idle": "2023-08-19T12:21:57.221365Z",
     "shell.execute_reply": "2023-08-19T12:21:57.220391Z"
    },
    "papermill": {
     "duration": 0.028324,
     "end_time": "2023-08-19T12:21:57.223531",
     "exception": false,
     "start_time": "2023-08-19T12:21:57.195207",
     "status": "completed"
    },
    "tags": []
   },
   "outputs": [
    {
     "data": {
      "text/plain": [
       "id       0\n",
       "label    0\n",
       "tweet    0\n",
       "dtype: int64"
      ]
     },
     "execution_count": 8,
     "metadata": {},
     "output_type": "execute_result"
    }
   ],
   "source": [
    "tweet_df.isnull().sum()"
   ]
  },
  {
   "cell_type": "code",
   "execution_count": 9,
   "id": "2fe34064",
   "metadata": {
    "execution": {
     "iopub.execute_input": "2023-08-19T12:21:57.240582Z",
     "iopub.status.busy": "2023-08-19T12:21:57.240309Z",
     "iopub.status.idle": "2023-08-19T12:21:57.245568Z",
     "shell.execute_reply": "2023-08-19T12:21:57.244682Z"
    },
    "papermill": {
     "duration": 0.016197,
     "end_time": "2023-08-19T12:21:57.247638",
     "exception": false,
     "start_time": "2023-08-19T12:21:57.231441",
     "status": "completed"
    },
    "tags": []
   },
   "outputs": [],
   "source": [
    "X = tweet_df.drop('label',axis=1)\n",
    "Y = tweet_df['label']"
   ]
  },
  {
   "cell_type": "code",
   "execution_count": 10,
   "id": "11153ed4",
   "metadata": {
    "execution": {
     "iopub.execute_input": "2023-08-19T12:21:57.264712Z",
     "iopub.status.busy": "2023-08-19T12:21:57.263869Z",
     "iopub.status.idle": "2023-08-19T12:21:57.268204Z",
     "shell.execute_reply": "2023-08-19T12:21:57.267367Z"
    },
    "papermill": {
     "duration": 0.014727,
     "end_time": "2023-08-19T12:21:57.270077",
     "exception": false,
     "start_time": "2023-08-19T12:21:57.255350",
     "status": "completed"
    },
    "tags": []
   },
   "outputs": [],
   "source": [
    "port_stem = PorterStemmer()"
   ]
  },
  {
   "cell_type": "code",
   "execution_count": 11,
   "id": "f3bf12be",
   "metadata": {
    "execution": {
     "iopub.execute_input": "2023-08-19T12:21:57.287037Z",
     "iopub.status.busy": "2023-08-19T12:21:57.286303Z",
     "iopub.status.idle": "2023-08-19T12:21:57.291959Z",
     "shell.execute_reply": "2023-08-19T12:21:57.291008Z"
    },
    "papermill": {
     "duration": 0.016093,
     "end_time": "2023-08-19T12:21:57.293951",
     "exception": false,
     "start_time": "2023-08-19T12:21:57.277858",
     "status": "completed"
    },
    "tags": []
   },
   "outputs": [],
   "source": [
    "def stemming(clean_text):\n",
    "        stemm_cat = re.sub('[^A-Za-z]',' ',clean_text)\n",
    "        stemm_cat = stemm_cat.lower()\n",
    "        stemm_cat = stemm_cat.split()\n",
    "        stemm_cat = [port_stem.stem(word) for word in stemm_cat if not word in stopwords.words('english')]\n",
    "        stemm_cat = ' '.join(stemm_cat)\n",
    "        return stemm_cat"
   ]
  },
  {
   "cell_type": "code",
   "execution_count": 12,
   "id": "b682a63c",
   "metadata": {
    "execution": {
     "iopub.execute_input": "2023-08-19T12:21:57.310518Z",
     "iopub.status.busy": "2023-08-19T12:21:57.309678Z",
     "iopub.status.idle": "2023-08-19T12:23:00.458317Z",
     "shell.execute_reply": "2023-08-19T12:23:00.457062Z"
    },
    "papermill": {
     "duration": 63.15973,
     "end_time": "2023-08-19T12:23:00.461060",
     "exception": false,
     "start_time": "2023-08-19T12:21:57.301330",
     "status": "completed"
    },
    "tags": []
   },
   "outputs": [],
   "source": [
    "tweet_df['tweet'] = tweet_df['tweet'].apply(stemming)"
   ]
  },
  {
   "cell_type": "code",
   "execution_count": 13,
   "id": "e51da05d",
   "metadata": {
    "execution": {
     "iopub.execute_input": "2023-08-19T12:23:00.485065Z",
     "iopub.status.busy": "2023-08-19T12:23:00.484726Z",
     "iopub.status.idle": "2023-08-19T12:23:00.494422Z",
     "shell.execute_reply": "2023-08-19T12:23:00.493328Z"
    },
    "papermill": {
     "duration": 0.026468,
     "end_time": "2023-08-19T12:23:00.496684",
     "exception": false,
     "start_time": "2023-08-19T12:23:00.470216",
     "status": "completed"
    },
    "tags": []
   },
   "outputs": [
    {
     "data": {
      "text/plain": [
       "0        user father dysfunct selfish drag kid dysfunct...\n",
       "1        user user thank lyft credit use caus offer whe...\n",
       "2                                           bihday majesti\n",
       "3                              model love u take u time ur\n",
       "4                                  factsguid societi motiv\n",
       "                               ...                        \n",
       "31957                                   ate user isz youuu\n",
       "31958    see nina turner airwav tri wrap mantl genuin h...\n",
       "31959             listen sad song monday morn otw work sad\n",
       "31960     user sikh templ vandalis calgari wso condemn act\n",
       "31961                                    thank user follow\n",
       "Name: tweet, Length: 31962, dtype: object"
      ]
     },
     "execution_count": 13,
     "metadata": {},
     "output_type": "execute_result"
    }
   ],
   "source": [
    "tweet_df['tweet']"
   ]
  },
  {
   "cell_type": "code",
   "execution_count": 14,
   "id": "bc3fa408",
   "metadata": {
    "execution": {
     "iopub.execute_input": "2023-08-19T12:23:00.516126Z",
     "iopub.status.busy": "2023-08-19T12:23:00.515045Z",
     "iopub.status.idle": "2023-08-19T12:23:00.521629Z",
     "shell.execute_reply": "2023-08-19T12:23:00.520622Z"
    },
    "papermill": {
     "duration": 0.018573,
     "end_time": "2023-08-19T12:23:00.523932",
     "exception": false,
     "start_time": "2023-08-19T12:23:00.505359",
     "status": "completed"
    },
    "tags": []
   },
   "outputs": [],
   "source": [
    "X = tweet_df['tweet'].values\n",
    "Y = tweet_df['label'].values"
   ]
  },
  {
   "cell_type": "code",
   "execution_count": 15,
   "id": "a2132df4",
   "metadata": {
    "execution": {
     "iopub.execute_input": "2023-08-19T12:23:00.543478Z",
     "iopub.status.busy": "2023-08-19T12:23:00.542612Z",
     "iopub.status.idle": "2023-08-19T12:23:00.549702Z",
     "shell.execute_reply": "2023-08-19T12:23:00.548626Z"
    },
    "papermill": {
     "duration": 0.018819,
     "end_time": "2023-08-19T12:23:00.551913",
     "exception": false,
     "start_time": "2023-08-19T12:23:00.533094",
     "status": "completed"
    },
    "tags": []
   },
   "outputs": [
    {
     "data": {
      "text/plain": [
       "array(['user father dysfunct selfish drag kid dysfunct run',\n",
       "       'user user thank lyft credit use caus offer wheelchair van pdx disapoint getthank',\n",
       "       'bihday majesti', ..., 'listen sad song monday morn otw work sad',\n",
       "       'user sikh templ vandalis calgari wso condemn act',\n",
       "       'thank user follow'], dtype=object)"
      ]
     },
     "execution_count": 15,
     "metadata": {},
     "output_type": "execute_result"
    }
   ],
   "source": [
    "X"
   ]
  },
  {
   "cell_type": "code",
   "execution_count": 16,
   "id": "d352825f",
   "metadata": {
    "execution": {
     "iopub.execute_input": "2023-08-19T12:23:00.571535Z",
     "iopub.status.busy": "2023-08-19T12:23:00.570616Z",
     "iopub.status.idle": "2023-08-19T12:23:01.106949Z",
     "shell.execute_reply": "2023-08-19T12:23:01.105779Z"
    },
    "papermill": {
     "duration": 0.548909,
     "end_time": "2023-08-19T12:23:01.109649",
     "exception": false,
     "start_time": "2023-08-19T12:23:00.560740",
     "status": "completed"
    },
    "tags": []
   },
   "outputs": [
    {
     "data": {
      "text/html": [
       "<style>#sk-container-id-1 {color: black;background-color: white;}#sk-container-id-1 pre{padding: 0;}#sk-container-id-1 div.sk-toggleable {background-color: white;}#sk-container-id-1 label.sk-toggleable__label {cursor: pointer;display: block;width: 100%;margin-bottom: 0;padding: 0.3em;box-sizing: border-box;text-align: center;}#sk-container-id-1 label.sk-toggleable__label-arrow:before {content: \"▸\";float: left;margin-right: 0.25em;color: #696969;}#sk-container-id-1 label.sk-toggleable__label-arrow:hover:before {color: black;}#sk-container-id-1 div.sk-estimator:hover label.sk-toggleable__label-arrow:before {color: black;}#sk-container-id-1 div.sk-toggleable__content {max-height: 0;max-width: 0;overflow: hidden;text-align: left;background-color: #f0f8ff;}#sk-container-id-1 div.sk-toggleable__content pre {margin: 0.2em;color: black;border-radius: 0.25em;background-color: #f0f8ff;}#sk-container-id-1 input.sk-toggleable__control:checked~div.sk-toggleable__content {max-height: 200px;max-width: 100%;overflow: auto;}#sk-container-id-1 input.sk-toggleable__control:checked~label.sk-toggleable__label-arrow:before {content: \"▾\";}#sk-container-id-1 div.sk-estimator input.sk-toggleable__control:checked~label.sk-toggleable__label {background-color: #d4ebff;}#sk-container-id-1 div.sk-label input.sk-toggleable__control:checked~label.sk-toggleable__label {background-color: #d4ebff;}#sk-container-id-1 input.sk-hidden--visually {border: 0;clip: rect(1px 1px 1px 1px);clip: rect(1px, 1px, 1px, 1px);height: 1px;margin: -1px;overflow: hidden;padding: 0;position: absolute;width: 1px;}#sk-container-id-1 div.sk-estimator {font-family: monospace;background-color: #f0f8ff;border: 1px dotted black;border-radius: 0.25em;box-sizing: border-box;margin-bottom: 0.5em;}#sk-container-id-1 div.sk-estimator:hover {background-color: #d4ebff;}#sk-container-id-1 div.sk-parallel-item::after {content: \"\";width: 100%;border-bottom: 1px solid gray;flex-grow: 1;}#sk-container-id-1 div.sk-label:hover label.sk-toggleable__label {background-color: #d4ebff;}#sk-container-id-1 div.sk-serial::before {content: \"\";position: absolute;border-left: 1px solid gray;box-sizing: border-box;top: 0;bottom: 0;left: 50%;z-index: 0;}#sk-container-id-1 div.sk-serial {display: flex;flex-direction: column;align-items: center;background-color: white;padding-right: 0.2em;padding-left: 0.2em;position: relative;}#sk-container-id-1 div.sk-item {position: relative;z-index: 1;}#sk-container-id-1 div.sk-parallel {display: flex;align-items: stretch;justify-content: center;background-color: white;position: relative;}#sk-container-id-1 div.sk-item::before, #sk-container-id-1 div.sk-parallel-item::before {content: \"\";position: absolute;border-left: 1px solid gray;box-sizing: border-box;top: 0;bottom: 0;left: 50%;z-index: -1;}#sk-container-id-1 div.sk-parallel-item {display: flex;flex-direction: column;z-index: 1;position: relative;background-color: white;}#sk-container-id-1 div.sk-parallel-item:first-child::after {align-self: flex-end;width: 50%;}#sk-container-id-1 div.sk-parallel-item:last-child::after {align-self: flex-start;width: 50%;}#sk-container-id-1 div.sk-parallel-item:only-child::after {width: 0;}#sk-container-id-1 div.sk-dashed-wrapped {border: 1px dashed gray;margin: 0 0.4em 0.5em 0.4em;box-sizing: border-box;padding-bottom: 0.4em;background-color: white;}#sk-container-id-1 div.sk-label label {font-family: monospace;font-weight: bold;display: inline-block;line-height: 1.2em;}#sk-container-id-1 div.sk-label-container {text-align: center;}#sk-container-id-1 div.sk-container {/* jupyter's `normalize.less` sets `[hidden] { display: none; }` but bootstrap.min.css set `[hidden] { display: none !important; }` so we also need the `!important` here to be able to override the default hidden behavior on the sphinx rendered scikit-learn.org. See: https://github.com/scikit-learn/scikit-learn/issues/21755 */display: inline-block !important;position: relative;}#sk-container-id-1 div.sk-text-repr-fallback {display: none;}</style><div id=\"sk-container-id-1\" class=\"sk-top-container\"><div class=\"sk-text-repr-fallback\"><pre>TfidfVectorizer()</pre><b>In a Jupyter environment, please rerun this cell to show the HTML representation or trust the notebook. <br />On GitHub, the HTML representation is unable to render, please try loading this page with nbviewer.org.</b></div><div class=\"sk-container\" hidden><div class=\"sk-item\"><div class=\"sk-estimator sk-toggleable\"><input class=\"sk-toggleable__control sk-hidden--visually\" id=\"sk-estimator-id-1\" type=\"checkbox\" checked><label for=\"sk-estimator-id-1\" class=\"sk-toggleable__label sk-toggleable__label-arrow\">TfidfVectorizer</label><div class=\"sk-toggleable__content\"><pre>TfidfVectorizer()</pre></div></div></div></div></div>"
      ],
      "text/plain": [
       "TfidfVectorizer()"
      ]
     },
     "execution_count": 16,
     "metadata": {},
     "output_type": "execute_result"
    }
   ],
   "source": [
    "# Converting textual data to numerical data\n",
    "from sklearn.feature_extraction.text import TfidfVectorizer \n",
    "\n",
    "vector = TfidfVectorizer()\n",
    "vector.fit(X)"
   ]
  },
  {
   "cell_type": "code",
   "execution_count": 17,
   "id": "ed77e733",
   "metadata": {
    "execution": {
     "iopub.execute_input": "2023-08-19T12:23:01.128869Z",
     "iopub.status.busy": "2023-08-19T12:23:01.127847Z",
     "iopub.status.idle": "2023-08-19T12:23:01.545319Z",
     "shell.execute_reply": "2023-08-19T12:23:01.544284Z"
    },
    "papermill": {
     "duration": 0.429616,
     "end_time": "2023-08-19T12:23:01.547982",
     "exception": false,
     "start_time": "2023-08-19T12:23:01.118366",
     "status": "completed"
    },
    "tags": []
   },
   "outputs": [],
   "source": [
    "transform_X = vector.transform(X)"
   ]
  },
  {
   "cell_type": "code",
   "execution_count": 18,
   "id": "9251268c",
   "metadata": {
    "execution": {
     "iopub.execute_input": "2023-08-19T12:23:01.566586Z",
     "iopub.status.busy": "2023-08-19T12:23:01.566254Z",
     "iopub.status.idle": "2023-08-19T12:23:02.710086Z",
     "shell.execute_reply": "2023-08-19T12:23:02.708721Z"
    },
    "papermill": {
     "duration": 1.155784,
     "end_time": "2023-08-19T12:23:02.712717",
     "exception": false,
     "start_time": "2023-08-19T12:23:01.556933",
     "status": "completed"
    },
    "tags": []
   },
   "outputs": [
    {
     "name": "stdout",
     "output_type": "stream",
     "text": [
      "[[0. 0. 0. ... 0. 0. 0.]\n",
      " [0. 0. 0. ... 0. 0. 0.]\n",
      " [0. 0. 0. ... 0. 0. 0.]\n",
      " ...\n",
      " [0. 0. 0. ... 0. 0. 0.]\n",
      " [0. 0. 0. ... 0. 0. 0.]\n",
      " [0. 0. 0. ... 0. 0. 0.]]\n"
     ]
    }
   ],
   "source": [
    "tfidf_array = transform_X.toarray()\n",
    "\n",
    "print(tfidf_array)"
   ]
  },
  {
   "cell_type": "code",
   "execution_count": 19,
   "id": "b3574b53",
   "metadata": {
    "execution": {
     "iopub.execute_input": "2023-08-19T12:23:02.733147Z",
     "iopub.status.busy": "2023-08-19T12:23:02.732816Z",
     "iopub.status.idle": "2023-08-19T12:23:07.197878Z",
     "shell.execute_reply": "2023-08-19T12:23:07.196836Z"
    },
    "papermill": {
     "duration": 4.477745,
     "end_time": "2023-08-19T12:23:07.200546",
     "exception": false,
     "start_time": "2023-08-19T12:23:02.722801",
     "status": "completed"
    },
    "tags": []
   },
   "outputs": [],
   "source": [
    "# Splitting data into train and test\n",
    "\n",
    "X_train,X_test,Y_train,Y_test = train_test_split(tfidf_array, Y, test_size=0.2, stratify=Y, random_state=42)"
   ]
  },
  {
   "cell_type": "code",
   "execution_count": 20,
   "id": "b19ed026",
   "metadata": {
    "execution": {
     "iopub.execute_input": "2023-08-19T12:23:07.219041Z",
     "iopub.status.busy": "2023-08-19T12:23:07.218100Z",
     "iopub.status.idle": "2023-08-19T12:23:07.223094Z",
     "shell.execute_reply": "2023-08-19T12:23:07.222220Z"
    },
    "papermill": {
     "duration": 0.016303,
     "end_time": "2023-08-19T12:23:07.225248",
     "exception": false,
     "start_time": "2023-08-19T12:23:07.208945",
     "status": "completed"
    },
    "tags": []
   },
   "outputs": [],
   "source": [
    "from sklearn.linear_model import LogisticRegression\n",
    "model = LogisticRegression()"
   ]
  },
  {
   "cell_type": "code",
   "execution_count": 21,
   "id": "07729d6b",
   "metadata": {
    "execution": {
     "iopub.execute_input": "2023-08-19T12:23:07.243029Z",
     "iopub.status.busy": "2023-08-19T12:23:07.242757Z",
     "iopub.status.idle": "2023-08-19T12:24:17.776913Z",
     "shell.execute_reply": "2023-08-19T12:24:17.775428Z"
    },
    "papermill": {
     "duration": 70.582244,
     "end_time": "2023-08-19T12:24:17.815943",
     "exception": false,
     "start_time": "2023-08-19T12:23:07.233699",
     "status": "completed"
    },
    "tags": []
   },
   "outputs": [
    {
     "data": {
      "text/html": [
       "<style>#sk-container-id-2 {color: black;background-color: white;}#sk-container-id-2 pre{padding: 0;}#sk-container-id-2 div.sk-toggleable {background-color: white;}#sk-container-id-2 label.sk-toggleable__label {cursor: pointer;display: block;width: 100%;margin-bottom: 0;padding: 0.3em;box-sizing: border-box;text-align: center;}#sk-container-id-2 label.sk-toggleable__label-arrow:before {content: \"▸\";float: left;margin-right: 0.25em;color: #696969;}#sk-container-id-2 label.sk-toggleable__label-arrow:hover:before {color: black;}#sk-container-id-2 div.sk-estimator:hover label.sk-toggleable__label-arrow:before {color: black;}#sk-container-id-2 div.sk-toggleable__content {max-height: 0;max-width: 0;overflow: hidden;text-align: left;background-color: #f0f8ff;}#sk-container-id-2 div.sk-toggleable__content pre {margin: 0.2em;color: black;border-radius: 0.25em;background-color: #f0f8ff;}#sk-container-id-2 input.sk-toggleable__control:checked~div.sk-toggleable__content {max-height: 200px;max-width: 100%;overflow: auto;}#sk-container-id-2 input.sk-toggleable__control:checked~label.sk-toggleable__label-arrow:before {content: \"▾\";}#sk-container-id-2 div.sk-estimator input.sk-toggleable__control:checked~label.sk-toggleable__label {background-color: #d4ebff;}#sk-container-id-2 div.sk-label input.sk-toggleable__control:checked~label.sk-toggleable__label {background-color: #d4ebff;}#sk-container-id-2 input.sk-hidden--visually {border: 0;clip: rect(1px 1px 1px 1px);clip: rect(1px, 1px, 1px, 1px);height: 1px;margin: -1px;overflow: hidden;padding: 0;position: absolute;width: 1px;}#sk-container-id-2 div.sk-estimator {font-family: monospace;background-color: #f0f8ff;border: 1px dotted black;border-radius: 0.25em;box-sizing: border-box;margin-bottom: 0.5em;}#sk-container-id-2 div.sk-estimator:hover {background-color: #d4ebff;}#sk-container-id-2 div.sk-parallel-item::after {content: \"\";width: 100%;border-bottom: 1px solid gray;flex-grow: 1;}#sk-container-id-2 div.sk-label:hover label.sk-toggleable__label {background-color: #d4ebff;}#sk-container-id-2 div.sk-serial::before {content: \"\";position: absolute;border-left: 1px solid gray;box-sizing: border-box;top: 0;bottom: 0;left: 50%;z-index: 0;}#sk-container-id-2 div.sk-serial {display: flex;flex-direction: column;align-items: center;background-color: white;padding-right: 0.2em;padding-left: 0.2em;position: relative;}#sk-container-id-2 div.sk-item {position: relative;z-index: 1;}#sk-container-id-2 div.sk-parallel {display: flex;align-items: stretch;justify-content: center;background-color: white;position: relative;}#sk-container-id-2 div.sk-item::before, #sk-container-id-2 div.sk-parallel-item::before {content: \"\";position: absolute;border-left: 1px solid gray;box-sizing: border-box;top: 0;bottom: 0;left: 50%;z-index: -1;}#sk-container-id-2 div.sk-parallel-item {display: flex;flex-direction: column;z-index: 1;position: relative;background-color: white;}#sk-container-id-2 div.sk-parallel-item:first-child::after {align-self: flex-end;width: 50%;}#sk-container-id-2 div.sk-parallel-item:last-child::after {align-self: flex-start;width: 50%;}#sk-container-id-2 div.sk-parallel-item:only-child::after {width: 0;}#sk-container-id-2 div.sk-dashed-wrapped {border: 1px dashed gray;margin: 0 0.4em 0.5em 0.4em;box-sizing: border-box;padding-bottom: 0.4em;background-color: white;}#sk-container-id-2 div.sk-label label {font-family: monospace;font-weight: bold;display: inline-block;line-height: 1.2em;}#sk-container-id-2 div.sk-label-container {text-align: center;}#sk-container-id-2 div.sk-container {/* jupyter's `normalize.less` sets `[hidden] { display: none; }` but bootstrap.min.css set `[hidden] { display: none !important; }` so we also need the `!important` here to be able to override the default hidden behavior on the sphinx rendered scikit-learn.org. See: https://github.com/scikit-learn/scikit-learn/issues/21755 */display: inline-block !important;position: relative;}#sk-container-id-2 div.sk-text-repr-fallback {display: none;}</style><div id=\"sk-container-id-2\" class=\"sk-top-container\"><div class=\"sk-text-repr-fallback\"><pre>LogisticRegression()</pre><b>In a Jupyter environment, please rerun this cell to show the HTML representation or trust the notebook. <br />On GitHub, the HTML representation is unable to render, please try loading this page with nbviewer.org.</b></div><div class=\"sk-container\" hidden><div class=\"sk-item\"><div class=\"sk-estimator sk-toggleable\"><input class=\"sk-toggleable__control sk-hidden--visually\" id=\"sk-estimator-id-2\" type=\"checkbox\" checked><label for=\"sk-estimator-id-2\" class=\"sk-toggleable__label sk-toggleable__label-arrow\">LogisticRegression</label><div class=\"sk-toggleable__content\"><pre>LogisticRegression()</pre></div></div></div></div></div>"
      ],
      "text/plain": [
       "LogisticRegression()"
      ]
     },
     "execution_count": 21,
     "metadata": {},
     "output_type": "execute_result"
    }
   ],
   "source": [
    "model.fit(X_train,Y_train)"
   ]
  },
  {
   "cell_type": "code",
   "execution_count": 22,
   "id": "d1e8d660",
   "metadata": {
    "execution": {
     "iopub.execute_input": "2023-08-19T12:24:17.875704Z",
     "iopub.status.busy": "2023-08-19T12:24:17.875079Z",
     "iopub.status.idle": "2023-08-19T12:24:18.185373Z",
     "shell.execute_reply": "2023-08-19T12:24:18.183918Z"
    },
    "papermill": {
     "duration": 0.335582,
     "end_time": "2023-08-19T12:24:18.189991",
     "exception": false,
     "start_time": "2023-08-19T12:24:17.854409",
     "status": "completed"
    },
    "tags": []
   },
   "outputs": [
    {
     "data": {
      "text/plain": [
       "array([0, 0, 0, ..., 0, 0, 0])"
      ]
     },
     "execution_count": 22,
     "metadata": {},
     "output_type": "execute_result"
    }
   ],
   "source": [
    "model.predict(X_test)"
   ]
  },
  {
   "cell_type": "code",
   "execution_count": 23,
   "id": "ecfad0ea",
   "metadata": {
    "execution": {
     "iopub.execute_input": "2023-08-19T12:24:18.281391Z",
     "iopub.status.busy": "2023-08-19T12:24:18.280726Z",
     "iopub.status.idle": "2023-08-19T12:24:18.559118Z",
     "shell.execute_reply": "2023-08-19T12:24:18.557482Z"
    },
    "papermill": {
     "duration": 0.318883,
     "end_time": "2023-08-19T12:24:18.564177",
     "exception": false,
     "start_time": "2023-08-19T12:24:18.245294",
     "status": "completed"
    },
    "tags": []
   },
   "outputs": [
    {
     "data": {
      "text/plain": [
       "0.9486938839355545"
      ]
     },
     "execution_count": 23,
     "metadata": {},
     "output_type": "execute_result"
    }
   ],
   "source": [
    "model.score(X_test,Y_test)"
   ]
  },
  {
   "cell_type": "code",
   "execution_count": null,
   "id": "a96e078d",
   "metadata": {
    "papermill": {
     "duration": 0.022092,
     "end_time": "2023-08-19T12:24:18.610711",
     "exception": false,
     "start_time": "2023-08-19T12:24:18.588619",
     "status": "completed"
    },
    "tags": []
   },
   "outputs": [],
   "source": []
  }
 ],
 "metadata": {
  "kernelspec": {
   "display_name": "Python 3",
   "language": "python",
   "name": "python3"
  },
  "language_info": {
   "codemirror_mode": {
    "name": "ipython",
    "version": 3
   },
   "file_extension": ".py",
   "mimetype": "text/x-python",
   "name": "python",
   "nbconvert_exporter": "python",
   "pygments_lexer": "ipython3",
   "version": "3.10.12"
  },
  "papermill": {
   "default_parameters": {},
   "duration": 176.747525,
   "end_time": "2023-08-19T12:24:21.993561",
   "environment_variables": {},
   "exception": null,
   "input_path": "__notebook__.ipynb",
   "output_path": "__notebook__.ipynb",
   "parameters": {},
   "start_time": "2023-08-19T12:21:25.246036",
   "version": "2.4.0"
  }
 },
 "nbformat": 4,
 "nbformat_minor": 5
}
